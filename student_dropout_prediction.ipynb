{
 "cells": [
  {
   "cell_type": "code",
   "execution_count": 79,
   "metadata": {},
   "outputs": [],
   "source": [
    "import numpy as np\n",
    "import pandas as pd\n",
    "import matplotlib.pyplot as plt"
   ]
  },
  {
   "cell_type": "code",
   "execution_count": 215,
   "metadata": {},
   "outputs": [],
   "source": [
    "from sklearn.model_selection import train_test_split\n",
    "from sklearn.preprocessing import StandardScaler, RobustScaler, MinMaxScaler, PolynomialFeatures, OrdinalEncoder\n",
    "from sklearn.linear_model import LogisticRegression\n",
    "from sklearn.ensemble import GradientBoostingClassifier, RandomForestClassifier, ExtraTreesClassifier\n",
    "from sklearn.metrics import accuracy_score, f1_score, recall_score, precision_score, roc_auc_score, roc_curve, plot_confusion_matrix, confusion_matrix\n",
    "from sklearn.discriminant_analysis import LinearDiscriminantAnalysis\n",
    "from sklearn.feature_selection import RFE, RFECV, SelectFromModel\n",
    "from sklearn.impute import KNNImputer\n",
    "\n",
    "from imblearn.over_sampling import SMOTE\n",
    "from category_encoders import TargetEncoder\n",
    "\n",
    "from scipy.stats import ttest_ind, chi2_contingency, levene, shapiro, f_oneway"
   ]
  },
  {
   "cell_type": "code",
   "execution_count": 371,
   "metadata": {},
   "outputs": [],
   "source": [
    "data = pd.read_csv('DBS.csv', sep=';')\n",
    "test = pd.read_csv('DBS_2020.csv', sep=';')"
   ]
  },
  {
   "cell_type": "code",
   "execution_count": 372,
   "metadata": {},
   "outputs": [],
   "source": [
    "data['label'] = data['graduate'].apply(lambda x: 0 if x==1 else (1 if x==0 else x))\n",
    "test['label'] = test['graduate'].apply(lambda x: 0 if x==1 else (1 if x==0 else x))"
   ]
  },
  {
   "cell_type": "markdown",
   "metadata": {},
   "source": [
    "# EDA"
   ]
  },
  {
   "cell_type": "code",
   "execution_count": 400,
   "metadata": {},
   "outputs": [],
   "source": [
    "drop_list = ['result_grade', 'year', 'acad_year', 'graduate']\n",
    "df = data.drop(drop_list, axis=1)\n",
    "test1 = test.drop(drop_list, axis=1).copy()"
   ]
  },
  {
   "cell_type": "code",
   "execution_count": 381,
   "metadata": {},
   "outputs": [
    {
     "data": {
      "text/plain": [
       "0    210\n",
       "1     51\n",
       "Name: label, dtype: int64"
      ]
     },
     "execution_count": 381,
     "metadata": {},
     "output_type": "execute_result"
    }
   ],
   "source": [
    "df['label'].value_counts()"
   ]
  },
  {
   "cell_type": "markdown",
   "metadata": {},
   "source": [
    "## Missing values"
   ]
  },
  {
   "cell_type": "code",
   "execution_count": 375,
   "metadata": {},
   "outputs": [
    {
     "data": {
      "text/plain": [
       "access           0\n",
       "tests            0\n",
       "tests_grade      0\n",
       "exam             0\n",
       "project          0\n",
       "project_grade    0\n",
       "assignments      0\n",
       "result_points    0\n",
       "label            0\n",
       "dtype: int64"
      ]
     },
     "execution_count": 375,
     "metadata": {},
     "output_type": "execute_result"
    }
   ],
   "source": [
    "df.isna().sum()"
   ]
  },
  {
   "cell_type": "code",
   "execution_count": 376,
   "metadata": {},
   "outputs": [
    {
     "data": {
      "text/plain": [
       "access           0\n",
       "tests            0\n",
       "tests_grade      0\n",
       "exam             0\n",
       "project          0\n",
       "project_grade    0\n",
       "assignments      0\n",
       "result_points    0\n",
       "result_grade     0\n",
       "graduate         0\n",
       "year             0\n",
       "acad_year        0\n",
       "label            0\n",
       "dtype: int64"
      ]
     },
     "execution_count": 376,
     "metadata": {},
     "output_type": "execute_result"
    }
   ],
   "source": [
    "test.isna().sum()"
   ]
  },
  {
   "cell_type": "markdown",
   "metadata": {},
   "source": [
    "## Tests"
   ]
  },
  {
   "cell_type": "code",
   "execution_count": 401,
   "metadata": {},
   "outputs": [],
   "source": [
    "str_cols = df.select_dtypes(object).columns\n",
    "num_cols = df.select_dtypes(np.number).columns"
   ]
  },
  {
   "cell_type": "code",
   "execution_count": null,
   "metadata": {},
   "outputs": [],
   "source": [
    "for col in str_cols:\n",
    "    print(col, np.unique(df[col]))"
   ]
  },
  {
   "cell_type": "code",
   "execution_count": 402,
   "metadata": {},
   "outputs": [],
   "source": [
    "for col in str_cols:\n",
    "    df[col] = df[col].apply(lambda x: 'FX' if x=='0' else x)"
   ]
  },
  {
   "cell_type": "code",
   "execution_count": 379,
   "metadata": {},
   "outputs": [
    {
     "name": "stdout",
     "output_type": "stream",
     "text": [
      "access 4.744716554965041e-09 equal_var\n",
      "tests 4.204939069693362e-10\n",
      "exam 4.5143039429289686e-27\n",
      "project 7.788532319764319e-22\n",
      "assignments 7.140735804548953e-10\n",
      "result_points 2.23660727190255e-25\n"
     ]
    }
   ],
   "source": [
    "for col in num_cols[:-1]:\n",
    "    a = df[df['label']==1][col]\n",
    "    b = df[df['label']==0][col]\n",
    "    if levene(a, b)[1]>=0.05:\n",
    "        print(col, ttest_ind(a, b, equal_var=True)[1], 'equal_var')\n",
    "    else:\n",
    "        print(col, ttest_ind(a, b, equal_var=False)[1])"
   ]
  },
  {
   "cell_type": "code",
   "execution_count": 289,
   "metadata": {},
   "outputs": [
    {
     "data": {
      "text/html": [
       "<div>\n",
       "<style scoped>\n",
       "    .dataframe tbody tr th:only-of-type {\n",
       "        vertical-align: middle;\n",
       "    }\n",
       "\n",
       "    .dataframe tbody tr th {\n",
       "        vertical-align: top;\n",
       "    }\n",
       "\n",
       "    .dataframe thead th {\n",
       "        text-align: right;\n",
       "    }\n",
       "</style>\n",
       "<table border=\"1\" class=\"dataframe\">\n",
       "  <thead>\n",
       "    <tr style=\"text-align: right;\">\n",
       "      <th>label</th>\n",
       "      <th>0</th>\n",
       "      <th>1</th>\n",
       "    </tr>\n",
       "    <tr>\n",
       "      <th>tests_grade</th>\n",
       "      <th></th>\n",
       "      <th></th>\n",
       "    </tr>\n",
       "  </thead>\n",
       "  <tbody>\n",
       "    <tr>\n",
       "      <th>A</th>\n",
       "      <td>14</td>\n",
       "      <td>0</td>\n",
       "    </tr>\n",
       "    <tr>\n",
       "      <th>B</th>\n",
       "      <td>23</td>\n",
       "      <td>2</td>\n",
       "    </tr>\n",
       "    <tr>\n",
       "      <th>C</th>\n",
       "      <td>50</td>\n",
       "      <td>3</td>\n",
       "    </tr>\n",
       "    <tr>\n",
       "      <th>D</th>\n",
       "      <td>51</td>\n",
       "      <td>5</td>\n",
       "    </tr>\n",
       "    <tr>\n",
       "      <th>E</th>\n",
       "      <td>51</td>\n",
       "      <td>7</td>\n",
       "    </tr>\n",
       "    <tr>\n",
       "      <th>FX</th>\n",
       "      <td>21</td>\n",
       "      <td>34</td>\n",
       "    </tr>\n",
       "  </tbody>\n",
       "</table>\n",
       "</div>"
      ],
      "text/plain": [
       "label         0   1\n",
       "tests_grade        \n",
       "A            14   0\n",
       "B            23   2\n",
       "C            50   3\n",
       "D            51   5\n",
       "E            51   7\n",
       "FX           21  34"
      ]
     },
     "execution_count": 289,
     "metadata": {},
     "output_type": "execute_result"
    }
   ],
   "source": [
    "pd.crosstab(df['tests_grade'], columns=df['label'])"
   ]
  },
  {
   "cell_type": "code",
   "execution_count": 290,
   "metadata": {},
   "outputs": [
    {
     "data": {
      "text/plain": [
       "(80.61132598802814,\n",
       " 6.250947799285692e-16,\n",
       " 5,\n",
       " array([[11.26436782,  2.73563218],\n",
       "        [20.11494253,  4.88505747],\n",
       "        [42.64367816, 10.35632184],\n",
       "        [45.05747126, 10.94252874],\n",
       "        [46.66666667, 11.33333333],\n",
       "        [44.25287356, 10.74712644]]))"
      ]
     },
     "execution_count": 290,
     "metadata": {},
     "output_type": "execute_result"
    }
   ],
   "source": [
    "chi2_contingency(pd.crosstab(df['tests_grade'], columns=df['label']))"
   ]
  },
  {
   "cell_type": "code",
   "execution_count": 287,
   "metadata": {},
   "outputs": [
    {
     "data": {
      "text/html": [
       "<div>\n",
       "<style scoped>\n",
       "    .dataframe tbody tr th:only-of-type {\n",
       "        vertical-align: middle;\n",
       "    }\n",
       "\n",
       "    .dataframe tbody tr th {\n",
       "        vertical-align: top;\n",
       "    }\n",
       "\n",
       "    .dataframe thead th {\n",
       "        text-align: right;\n",
       "    }\n",
       "</style>\n",
       "<table border=\"1\" class=\"dataframe\">\n",
       "  <thead>\n",
       "    <tr style=\"text-align: right;\">\n",
       "      <th>label</th>\n",
       "      <th>0</th>\n",
       "      <th>1</th>\n",
       "    </tr>\n",
       "    <tr>\n",
       "      <th>project_grade</th>\n",
       "      <th></th>\n",
       "      <th></th>\n",
       "    </tr>\n",
       "  </thead>\n",
       "  <tbody>\n",
       "    <tr>\n",
       "      <th>A</th>\n",
       "      <td>105</td>\n",
       "      <td>1</td>\n",
       "    </tr>\n",
       "    <tr>\n",
       "      <th>B</th>\n",
       "      <td>54</td>\n",
       "      <td>1</td>\n",
       "    </tr>\n",
       "    <tr>\n",
       "      <th>C</th>\n",
       "      <td>34</td>\n",
       "      <td>1</td>\n",
       "    </tr>\n",
       "    <tr>\n",
       "      <th>D</th>\n",
       "      <td>10</td>\n",
       "      <td>1</td>\n",
       "    </tr>\n",
       "    <tr>\n",
       "      <th>E</th>\n",
       "      <td>2</td>\n",
       "      <td>5</td>\n",
       "    </tr>\n",
       "    <tr>\n",
       "      <th>FX</th>\n",
       "      <td>5</td>\n",
       "      <td>42</td>\n",
       "    </tr>\n",
       "  </tbody>\n",
       "</table>\n",
       "</div>"
      ],
      "text/plain": [
       "label            0   1\n",
       "project_grade         \n",
       "A              105   1\n",
       "B               54   1\n",
       "C               34   1\n",
       "D               10   1\n",
       "E                2   5\n",
       "FX               5  42"
      ]
     },
     "execution_count": 287,
     "metadata": {},
     "output_type": "execute_result"
    }
   ],
   "source": [
    "pd.crosstab(df['project_grade'], columns=df['label'])"
   ]
  },
  {
   "cell_type": "code",
   "execution_count": 288,
   "metadata": {},
   "outputs": [
    {
     "data": {
      "text/plain": [
       "(198.98788116056613,\n",
       " 4.676493242319777e-41,\n",
       " 5,\n",
       " array([[85.28735632, 20.71264368],\n",
       "        [44.25287356, 10.74712644],\n",
       "        [28.16091954,  6.83908046],\n",
       "        [ 8.85057471,  2.14942529],\n",
       "        [ 5.63218391,  1.36781609],\n",
       "        [37.81609195,  9.18390805]]))"
      ]
     },
     "execution_count": 288,
     "metadata": {},
     "output_type": "execute_result"
    }
   ],
   "source": [
    "chi2_contingency(pd.crosstab(df['project_grade'], columns=df['label']))"
   ]
  },
  {
   "cell_type": "code",
   "execution_count": 64,
   "metadata": {},
   "outputs": [
    {
     "name": "stdout",
     "output_type": "stream",
     "text": [
      "tests_grade ['0' 'A' 'B' 'C' 'D' 'E' 'FX']\n",
      "project_grade ['0' 'A' 'B' 'C' 'D' 'E' 'FX']\n"
     ]
    }
   ],
   "source": [
    "for col in str_cols:\n",
    "    print(col, np.unique(df[col]))"
   ]
  },
  {
   "cell_type": "code",
   "execution_count": 65,
   "metadata": {},
   "outputs": [
    {
     "name": "stdout",
     "output_type": "stream",
     "text": [
      "tests_grade ['A' 'B' 'C' 'D' 'E' 'FX']\n",
      "project_grade ['A' 'B' 'C' 'D' 'E' 'FX']\n"
     ]
    }
   ],
   "source": [
    "for col in str_cols:\n",
    "    print(col, np.unique(test1[col]))"
   ]
  },
  {
   "cell_type": "markdown",
   "metadata": {},
   "source": [
    "# Preprocessing"
   ]
  },
  {
   "cell_type": "code",
   "execution_count": 384,
   "metadata": {},
   "outputs": [
    {
     "name": "stdout",
     "output_type": "stream",
     "text": [
      "tests_grade ['A' 'B' 'C' 'D' 'E' 'FX']\n",
      "project_grade ['A' 'B' 'C' 'D' 'E' 'FX']\n"
     ]
    }
   ],
   "source": [
    "for col in str_cols:\n",
    "    print(col, np.unique(df[col]))"
   ]
  },
  {
   "cell_type": "code",
   "execution_count": 403,
   "metadata": {},
   "outputs": [],
   "source": [
    "for col in str_cols:\n",
    "    en = OrdinalEncoder(categories=[np.unique(df[col]).tolist()[::-1]],  handle_unknown='use_encoded_value', unknown_value=-1)\n",
    "    df[col] = en.fit_transform(df[col].values.reshape(-1,1))\n",
    "    test1[col] = en.transform(test1[col].values.reshape(-1,1))"
   ]
  },
  {
   "cell_type": "code",
   "execution_count": 404,
   "metadata": {},
   "outputs": [],
   "source": [
    "# en = TargetEncoder()\n",
    "# df[str_cols] = en.fit_transform(df[str_cols], df['label'])\n",
    "# test1[str_cols] = en.transform(test1[str_cols])"
   ]
  },
  {
   "cell_type": "code",
   "execution_count": 448,
   "metadata": {},
   "outputs": [],
   "source": [
    "drop_feats = ['label', ] #'result_points'\n",
    "X_train, y_train = df.drop(drop_feats, axis=1), df['label']\n",
    "X_test, y_test = test1.drop(drop_feats, axis=1), test1['label']\n",
    "\n",
    "feat_names = X_train.columns"
   ]
  },
  {
   "cell_type": "code",
   "execution_count": 449,
   "metadata": {},
   "outputs": [],
   "source": [
    "pf = PolynomialFeatures(interaction_only=True, include_bias=False, degree=2)\n",
    "pf.fit(X_train)\n",
    "\n",
    "X_train = pf.transform(X_train)\n",
    "X_test = pf.transform(X_test)"
   ]
  },
  {
   "cell_type": "code",
   "execution_count": 450,
   "metadata": {},
   "outputs": [],
   "source": [
    "scaler = StandardScaler()\n",
    "X_train = scaler.fit_transform(X_train)\n",
    "X_test = scaler.transform(X_test)"
   ]
  },
  {
   "cell_type": "code",
   "execution_count": 451,
   "metadata": {},
   "outputs": [],
   "source": [
    "smote = SMOTE(random_state=42)\n",
    "X_train, y_train = smote.fit_resample(X_train, y_train)"
   ]
  },
  {
   "cell_type": "markdown",
   "metadata": {},
   "source": [
    "# Train"
   ]
  },
  {
   "cell_type": "markdown",
   "metadata": {},
   "source": [
    "## Linear Discriminant Analysis"
   ]
  },
  {
   "cell_type": "code",
   "execution_count": 433,
   "metadata": {},
   "outputs": [
    {
     "name": "stdout",
     "output_type": "stream",
     "text": [
      "0.9666666666666667\n",
      "0.9333333333333333\n"
     ]
    }
   ],
   "source": [
    "model_ld = LinearDiscriminantAnalysis(solver='lsqr', shrinkage='auto')\n",
    "model_ld.fit(X_train, y_train)\n",
    "\n",
    "pred_ld = model_ld.predict(X_test)\n",
    "\n",
    "print(model_ld.score(X_test, y_test))\n",
    "print(f1_score(y_test, pred_ld, ))"
   ]
  },
  {
   "cell_type": "markdown",
   "metadata": {},
   "source": [
    "## Logistic Regression"
   ]
  },
  {
   "cell_type": "code",
   "execution_count": 491,
   "metadata": {},
   "outputs": [
    {
     "name": "stdout",
     "output_type": "stream",
     "text": [
      "0.9666666666666667\n",
      "0.9333333333333333\n",
      "0.9922360248447205\n"
     ]
    }
   ],
   "source": [
    "model_lr = LogisticRegression(solver='lbfgs', C=1., random_state=42, max_iter=1000)\n",
    "model_lr.fit(X_train, y_train)\n",
    "\n",
    "pred_lr = model_lr.predict(X_test)\n",
    "\n",
    "print(model_lr.score(X_test, y_test, ))\n",
    "print(f1_score(y_test, pred_lr, ))\n",
    "print(roc_auc_score(y_test, model_lr.predict_proba(X_test)[:, 1]))"
   ]
  },
  {
   "cell_type": "code",
   "execution_count": 492,
   "metadata": {},
   "outputs": [
    {
     "data": {
      "text/plain": [
       "array([ 1,  1,  1,  1,  1,  1, 10,  7,  9,  1,  3,  1,  1,  1,  1,  1,  1,\n",
       "        6,  1,  1,  1,  4,  1, 11,  1,  5,  8,  1,  1,  1,  1,  1,  2,  1,\n",
       "        1,  1])"
      ]
     },
     "execution_count": 492,
     "metadata": {},
     "output_type": "execute_result"
    }
   ],
   "source": [
    "rfecv = RFECV(estimator=model_lr, cv=10, scoring='f1', )\n",
    "\n",
    "rfecv.fit(X_train, y_train)\n",
    "\n",
    "rfecv.ranking_"
   ]
  },
  {
   "cell_type": "code",
   "execution_count": 493,
   "metadata": {},
   "outputs": [
    {
     "name": "stdout",
     "output_type": "stream",
     "text": [
      "0.9666666666666667\n",
      "0.9333333333333333\n"
     ]
    }
   ],
   "source": [
    "model_lr = LogisticRegression(solver='lbfgs', C=1., random_state=42)\n",
    "model_lr.fit(rfecv.transform(X_train), y_train)\n",
    "\n",
    "pred_lr = model_lr.predict(rfecv.transform(X_test))\n",
    "\n",
    "print(model_lr.score(rfecv.transform(X_test), y_test))\n",
    "print(f1_score(y_test, pred_lr))"
   ]
  },
  {
   "cell_type": "code",
   "execution_count": 494,
   "metadata": {},
   "outputs": [],
   "source": [
    "feat_names_pf = [i.replace(' ', ' * ') for i in pf.get_feature_names(feat_names)]"
   ]
  },
  {
   "cell_type": "code",
   "execution_count": 496,
   "metadata": {},
   "outputs": [
    {
     "data": {
      "image/png": "[encoded data removed]",
      "text/plain": [
       "<Figure size 864x648 with 1 Axes>"
      ]
     },
     "metadata": {
      "needs_background": "light"
     },
     "output_type": "display_data"
    }
   ],
   "source": [
    "plt.figure(figsize=(12,9))\n",
    "plt.barh( np.array(feat_names_pf)[np.where(rfecv.support_==True)[0]], model_lr.coef_[0])\n",
    "plt.yticks(fontsize=12)\n",
    "plt.show()"
   ]
  },
  {
   "cell_type": "code",
   "execution_count": 469,
   "metadata": {},
   "outputs": [
    {
     "data": {
      "text/html": [
       "<div>\n",
       "<style scoped>\n",
       "    .dataframe tbody tr th:only-of-type {\n",
       "        vertical-align: middle;\n",
       "    }\n",
       "\n",
       "    .dataframe tbody tr th {\n",
       "        vertical-align: top;\n",
       "    }\n",
       "\n",
       "    .dataframe thead th {\n",
       "        text-align: right;\n",
       "    }\n",
       "</style>\n",
       "<table border=\"1\" class=\"dataframe\">\n",
       "  <thead>\n",
       "    <tr style=\"text-align: right;\">\n",
       "      <th></th>\n",
       "      <th>Pred 1</th>\n",
       "      <th>Pred 0</th>\n",
       "    </tr>\n",
       "  </thead>\n",
       "  <tbody>\n",
       "    <tr>\n",
       "      <th>True 1</th>\n",
       "      <td>14</td>\n",
       "      <td>0</td>\n",
       "    </tr>\n",
       "    <tr>\n",
       "      <th>True 0</th>\n",
       "      <td>2</td>\n",
       "      <td>44</td>\n",
       "    </tr>\n",
       "  </tbody>\n",
       "</table>\n",
       "</div>"
      ],
      "text/plain": [
       "        Pred 1  Pred 0\n",
       "True 1      14       0\n",
       "True 0       2      44"
      ]
     },
     "execution_count": 469,
     "metadata": {},
     "output_type": "execute_result"
    }
   ],
   "source": [
    "pd.DataFrame(confusion_matrix(y_test, pred_lr, labels=[1, 0]), index=['True 1', 'True 0'], columns = ['Pred 1', 'Pred 0'])"
   ]
  },
  {
   "cell_type": "markdown",
   "metadata": {},
   "source": [
    "## Random Forest"
   ]
  },
  {
   "cell_type": "code",
   "execution_count": 480,
   "metadata": {},
   "outputs": [
    {
     "name": "stdout",
     "output_type": "stream",
     "text": [
      "0.95\n",
      "0.896551724137931\n",
      "0.9953416149068323\n"
     ]
    }
   ],
   "source": [
    "model_rf = RandomForestClassifier(random_state=42)\n",
    "model_rf.fit(X_train, y_train)\n",
    "\n",
    "pred_rf = model_rf.predict(X_test)\n",
    "\n",
    "print(model_rf.score(X_test, y_test))\n",
    "print(f1_score(y_test, pred_rf))\n",
    "print(roc_auc_score(y_test, model_rf.predict_proba(X_test)[:, 1]))"
   ]
  },
  {
   "cell_type": "code",
   "execution_count": 481,
   "metadata": {},
   "outputs": [
    {
     "data": {
      "text/plain": [
       "RFECV(estimator=RandomForestClassifier(random_state=42), scoring='f1')"
      ]
     },
     "execution_count": 481,
     "metadata": {},
     "output_type": "execute_result"
    }
   ],
   "source": [
    "rfecv = RFECV(estimator=model_rf, scoring='f1')\n",
    "\n",
    "rfecv.fit(X_train, y_train)"
   ]
  },
  {
   "cell_type": "code",
   "execution_count": 482,
   "metadata": {},
   "outputs": [
    {
     "data": {
      "text/plain": [
       "array([ 8,  1,  1,  1,  1,  1,  5,  1,  1, 11,  1,  7,  1,  1, 10,  4,  1,\n",
       "        1,  1,  1,  1,  1, 13, 12,  2,  9,  6,  1,  1,  1,  3,  1,  1,  1,\n",
       "        1,  1])"
      ]
     },
     "execution_count": 482,
     "metadata": {},
     "output_type": "execute_result"
    }
   ],
   "source": [
    "rfecv.ranking_"
   ]
  },
  {
   "cell_type": "code",
   "execution_count": 483,
   "metadata": {},
   "outputs": [
    {
     "name": "stdout",
     "output_type": "stream",
     "text": [
      "0.95\n",
      "0.896551724137931\n",
      "0.9937888198757764\n"
     ]
    }
   ],
   "source": [
    "model_rf = RandomForestClassifier(random_state=42)\n",
    "model_rf.fit(rfecv.transform(X_train), y_train)\n",
    "\n",
    "pred_rf = model_rf.predict(rfecv.transform(X_test))\n",
    "\n",
    "print(model_rf.score(rfecv.transform(X_test), y_test))\n",
    "print(f1_score(y_test, pred_rf))\n",
    "print(roc_auc_score(y_test, model_rf.predict_proba(rfecv.transform(X_test))[:, 1]))"
   ]
  },
  {
   "cell_type": "code",
   "execution_count": 484,
   "metadata": {},
   "outputs": [
    {
     "data": {
      "text/plain": [
       "<BarContainer object of 24 artists>"
      ]
     },
     "execution_count": 484,
     "metadata": {},
     "output_type": "execute_result"
    },
    {
     "data": {
      "image/png": "[encoded data removed]",
      "text/plain": [
       "<Figure size 432x288 with 1 Axes>"
      ]
     },
     "metadata": {
      "needs_background": "light"
     },
     "output_type": "display_data"
    }
   ],
   "source": [
    "plt.barh( np.array(pf.get_feature_names(feat_names))[np.where(rfecv.support_==True)[0]], model_rf.feature_importances_)"
   ]
  },
  {
   "cell_type": "code",
   "execution_count": 486,
   "metadata": {},
   "outputs": [
    {
     "data": {
      "text/html": [
       "<div>\n",
       "<style scoped>\n",
       "    .dataframe tbody tr th:only-of-type {\n",
       "        vertical-align: middle;\n",
       "    }\n",
       "\n",
       "    .dataframe tbody tr th {\n",
       "        vertical-align: top;\n",
       "    }\n",
       "\n",
       "    .dataframe thead th {\n",
       "        text-align: right;\n",
       "    }\n",
       "</style>\n",
       "<table border=\"1\" class=\"dataframe\">\n",
       "  <thead>\n",
       "    <tr style=\"text-align: right;\">\n",
       "      <th></th>\n",
       "      <th>Pred 1</th>\n",
       "      <th>Pred 0</th>\n",
       "    </tr>\n",
       "  </thead>\n",
       "  <tbody>\n",
       "    <tr>\n",
       "      <th>True 1</th>\n",
       "      <td>13</td>\n",
       "      <td>1</td>\n",
       "    </tr>\n",
       "    <tr>\n",
       "      <th>True 0</th>\n",
       "      <td>2</td>\n",
       "      <td>44</td>\n",
       "    </tr>\n",
       "  </tbody>\n",
       "</table>\n",
       "</div>"
      ],
      "text/plain": [
       "        Pred 1  Pred 0\n",
       "True 1      13       1\n",
       "True 0       2      44"
      ]
     },
     "execution_count": 486,
     "metadata": {},
     "output_type": "execute_result"
    }
   ],
   "source": [
    "pd.DataFrame(confusion_matrix(y_test, pred_rf, labels=[1, 0]), index=['True 1', 'True 0'], columns = ['Pred 1', 'Pred 0'])"
   ]
  },
  {
   "cell_type": "code",
   "execution_count": null,
   "metadata": {},
   "outputs": [],
   "source": []
  }
 ],
 "metadata": {
  "kernelspec": {
   "display_name": "Python 3",
   "language": "python",
   "name": "python3"
  },
  "language_info": {
   "codemirror_mode": {
    "name": "ipython",
    "version": 3
   },
   "file_extension": ".py",
   "mimetype": "text/x-python",
   "name": "python",
   "nbconvert_exporter": "python",
   "pygments_lexer": "ipython3",
   "version": "3.8.5"
  },
  "widgets": {
   "application/vnd.jupyter.widget-state+json": {
    "state": {},
    "version_major": 2,
    "version_minor": 0
   }
  }
 },
 "nbformat": 4,
 "nbformat_minor": 4
}
